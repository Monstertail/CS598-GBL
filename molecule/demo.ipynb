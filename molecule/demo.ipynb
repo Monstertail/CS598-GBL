{
 "cells": [
  {
   "cell_type": "markdown",
   "id": "d108fb7c-5b97-4086-9c11-b75ed790486f",
   "metadata": {},
   "source": [
    "# Hands on: Molecule"
   ]
  },
  {
   "cell_type": "markdown",
   "id": "5e1f46ca-3aa8-48af-9e91-0c64dc642505",
   "metadata": {},
   "source": [
    "## step 0: build environment & generate some samples\n",
    "\n",
    "clone FlowMol: https://github.com/Dunni3/FlowMol\n",
    "\n",
    "follow FlowMol README ``Environment Setup`` to setup environment\n",
    "\n",
    "note: if you encounter ``==> For changes to take effect, close and re-open your current shell. <==``, simply ``bash`` in your terminal will refresh.\n",
    "\n",
    "follow FlowMol README ``Datasets`` to download and prepare data\n",
    "\n",
    "note: there are some inconsistent folder/file names between the downloaded and used, which can be easily fixed\n",
    "\n",
    "after processing QM9 data, comment out line 142 in ``flowmol/models/flowmol.py`` since you are not required to train the model\n",
    "\n",
    "then run ``python test.py --model_dir trained_models/qm9_ctmc/ --n_mols 100 --n_timesteps 100`` to generate 100 samples\n",
    "\n",
    "the samples will be saved at ``trained_models/qm9_ctmc/samples/sampled_mols.sdf``\n",
    "\n",
    "run ``head trained_models/qm9_ctmc/samples/sampled_mols.sdf`` to see a few lines. it will display something like\n",
    "\n",
    "```\r\n",
    "     RDKit          3D\r\n",
    "\r\n",
    " 23 23  0  0  0  0  0  0  0  0999 V2000\r\n",
    "    0.2013    1.0705    1.1532 O   0  0  0  0  0  0  0  0  0  0  0  0\r\n",
    "   -1.1262    0.5475    1.1119 C   0  0  0  0  0  0  0  0  0  0  0  0\r\n",
    "    2.3767   -0.2953   -3.3973 H   0  0  0  0  0  0  0  0  0  0  0  0\r\n",
    "    1.0554   -2.4581   -0.7065 H   0  0  0  0  0  0  0  0  0  0  0  0\r\n",
    "   -1.0741   -0.9779    1.1011 C   0  0  0  0  0  0  00      \n",
    "```0  0  0."
   ]
  },
  {
   "cell_type": "markdown",
   "id": "164902cc-dd74-4999-a00b-e422fa8f2d5c",
   "metadata": {},
   "source": [
    "## step 1: load rdkit molecules\n",
    "\n",
    "if you are using jypterhub, run ``pip install ipykernel`` and ``python -m ipykernel install --user --name flowmol --display-name \"flowmol\"`` to register kernel\n",
    "\n",
    "refresh jupyterhub, reopen demo.ipynb, select kernel ``flowmol``"
   ]
  },
  {
   "cell_type": "code",
   "execution_count": 1,
   "id": "213ea355-3323-4d8f-971c-e891042ee966",
   "metadata": {},
   "outputs": [
    {
     "name": "stdout",
     "output_type": "stream",
     "text": [
      "100 mols loaded\n"
     ]
    }
   ],
   "source": [
    "from rdkit import Chem, RDLogger\n",
    "RDLogger.DisableLog('rdApp.*')\n",
    "import pickle as pkl\n",
    "import torch\n",
    "from tqdm import tqdm\n",
    "\n",
    "# change to your path\n",
    "path = '../../FlowMol/trained_models/qm9_ctmc/samples/sampled_mols.sdf'\n",
    "\n",
    "supplier = Chem.SDMolSupplier(path)\n",
    "\n",
    "mols = [mol for mol in supplier]\n",
    "print(f'{len(mols)} mols loaded')"
   ]
  },
  {
   "cell_type": "code",
   "execution_count": 2,
   "id": "943b576d-9177-4949-910a-46e905b46f22",
   "metadata": {},
   "outputs": [
    {
     "data": {
      "image/jpeg": "[encoded data removed]",
      "image/png": "[encoded data removed]",
      "text/plain": [
       "<PIL.PngImagePlugin.PngImageFile image mode=RGB size=300x300>"
      ]
     },
     "metadata": {},
     "output_type": "display_data"
    },
    {
     "data": {
      "application/3dmoljs_load.v0": "<div id=\"3dmolviewer_17429613094765346\"  style=\"position: relative; width: 400px; height: 400px;\">\n        <p id=\"3dmolwarning_17429613094765346\" style=\"background-color:#ffcccc;color:black\">3Dmol.js failed to load for some reason.  Please check your browser console for error messages.<br></p>\n        </div>\n<script>\n\nvar loadScriptAsync = function(uri){\n  return new Promise((resolve, reject) => {\n    //this is to ignore the existence of requirejs amd\n    var savedexports, savedmodule;\n    if (typeof exports !== 'undefined') savedexports = exports;\n    else exports = {}\n    if (typeof module !== 'undefined') savedmodule = module;\n    else module = {}\n\n    var tag = document.createElement('script');\n    tag.src = uri;\n    tag.async = true;\n    tag.onload = () => {\n        exports = savedexports;\n        module = savedmodule;\n        resolve();\n    };\n  var firstScriptTag = document.getElementsByTagName('script')[0];\n  firstScriptTag.parentNode.insertBefore(tag, firstScriptTag);\n});\n};\n\nif(typeof $3Dmolpromise === 'undefined') {\n$3Dmolpromise = null;\n  $3Dmolpromise = loadScriptAsync('https://cdnjs.cloudflare.com/ajax/libs/3Dmol/2.4.2/3Dmol-min.js');\n}\n\nvar viewer_17429613094765346 = null;\nvar warn = document.getElementById(\"3dmolwarning_17429613094765346\");\nif(warn) {\n    warn.parentNode.removeChild(warn);\n}\n$3Dmolpromise.then(function() {\nviewer_17429613094765346 = $3Dmol.createViewer(document.getElementById(\"3dmolviewer_17429613094765346\"),{backgroundColor:\"white\"});\nviewer_17429613094765346.zoomTo();\n\tviewer_17429613094765346.addModel(\"\\n     RDKit          3D\\n\\n  9  9  0  0  0  0  0  0  0  0999 V2000\\n    0.2013    1.0705    1.1532 O   0  0  0  0  0  0  0  0  0  0  0  0\\n   -1.1262    0.5475    1.1119 C   0  0  1  0  0  0  0  0  0  0  0  0\\n   -1.0741   -0.9779    1.1011 C   0  0  0  0  0  0  0  0  0  0  0  0\\n    0.6835   -1.4354   -0.5402 C   0  0  0  0  0  0  0  0  0  0  0  0\\n    0.8056   -0.6400   -1.8248 C   0  0  0  0  0  0  0  0  0  0  0  0\\n    2.1646   -0.2254   -2.3200 C   0  0  0  0  0  0  0  0  0  0  0  0\\n   -0.6684   -1.5535   -0.1226 O   0  0  0  0  0  0  0  0  0  0  0  0\\n    1.1925    0.8092   -1.8392 C   0  0  0  0  0  0  0  0  0  0  0  0\\n   -1.9043    1.0447    2.3561 C   0  0  0  0  0  0  0  0  0  0  0  0\\n  1  2  1  0\\n  2  3  1  0\\n  2  9  1  1\\n  3  7  1  0\\n  4  5  1  0\\n  4  7  1  0\\n  5  6  1  0\\n  5  8  1  0\\n  6  8  1  0\\nM  END\\n\",\"mol\");\n\tviewer_17429613094765346.setStyle({\"stick\": {}});\n\tviewer_17429613094765346.zoomTo();\nviewer_17429613094765346.render();\n});\n</script>",
      "text/html": [
       "<div id=\"3dmolviewer_17429613094765346\"  style=\"position: relative; width: 400px; height: 400px;\">\n",
       "        <p id=\"3dmolwarning_17429613094765346\" style=\"background-color:#ffcccc;color:black\">3Dmol.js failed to load for some reason.  Please check your browser console for error messages.<br></p>\n",
       "        </div>\n",
       "<script>\n",
       "\n",
       "var loadScriptAsync = function(uri){\n",
       "  return new Promise((resolve, reject) => {\n",
       "    //this is to ignore the existence of requirejs amd\n",
       "    var savedexports, savedmodule;\n",
       "    if (typeof exports !== 'undefined') savedexports = exports;\n",
       "    else exports = {}\n",
       "    if (typeof module !== 'undefined') savedmodule = module;\n",
       "    else module = {}\n",
       "\n",
       "    var tag = document.createElement('script');\n",
       "    tag.src = uri;\n",
       "    tag.async = true;\n",
       "    tag.onload = () => {\n",
       "        exports = savedexports;\n",
       "        module = savedmodule;\n",
       "        resolve();\n",
       "    };\n",
       "  var firstScriptTag = document.getElementsByTagName('script')[0];\n",
       "  firstScriptTag.parentNode.insertBefore(tag, firstScriptTag);\n",
       "});\n",
       "};\n",
       "\n",
       "if(typeof $3Dmolpromise === 'undefined') {\n",
       "$3Dmolpromise = null;\n",
       "  $3Dmolpromise = loadScriptAsync('https://cdnjs.cloudflare.com/ajax/libs/3Dmol/2.4.2/3Dmol-min.js');\n",
       "}\n",
       "\n",
       "var viewer_17429613094765346 = null;\n",
       "var warn = document.getElementById(\"3dmolwarning_17429613094765346\");\n",
       "if(warn) {\n",
       "    warn.parentNode.removeChild(warn);\n",
       "}\n",
       "$3Dmolpromise.then(function() {\n",
       "viewer_17429613094765346 = $3Dmol.createViewer(document.getElementById(\"3dmolviewer_17429613094765346\"),{backgroundColor:\"white\"});\n",
       "viewer_17429613094765346.zoomTo();\n",
       "\tviewer_17429613094765346.addModel(\"\\n     RDKit          3D\\n\\n  9  9  0  0  0  0  0  0  0  0999 V2000\\n    0.2013    1.0705    1.1532 O   0  0  0  0  0  0  0  0  0  0  0  0\\n   -1.1262    0.5475    1.1119 C   0  0  1  0  0  0  0  0  0  0  0  0\\n   -1.0741   -0.9779    1.1011 C   0  0  0  0  0  0  0  0  0  0  0  0\\n    0.6835   -1.4354   -0.5402 C   0  0  0  0  0  0  0  0  0  0  0  0\\n    0.8056   -0.6400   -1.8248 C   0  0  0  0  0  0  0  0  0  0  0  0\\n    2.1646   -0.2254   -2.3200 C   0  0  0  0  0  0  0  0  0  0  0  0\\n   -0.6684   -1.5535   -0.1226 O   0  0  0  0  0  0  0  0  0  0  0  0\\n    1.1925    0.8092   -1.8392 C   0  0  0  0  0  0  0  0  0  0  0  0\\n   -1.9043    1.0447    2.3561 C   0  0  0  0  0  0  0  0  0  0  0  0\\n  1  2  1  0\\n  2  3  1  0\\n  2  9  1  1\\n  3  7  1  0\\n  4  5  1  0\\n  4  7  1  0\\n  5  6  1  0\\n  5  8  1  0\\n  6  8  1  0\\nM  END\\n\",\"mol\");\n",
       "\tviewer_17429613094765346.setStyle({\"stick\": {}});\n",
       "\tviewer_17429613094765346.zoomTo();\n",
       "viewer_17429613094765346.render();\n",
       "});\n",
       "</script>"
      ]
     },
     "metadata": {},
     "output_type": "display_data"
    }
   ],
   "source": [
    "from rdkit.Chem import Draw\n",
    "from rdkit.Chem import AllChem\n",
    "import py3Dmol\n",
    "from IPython.display import display\n",
    "\n",
    "# show 2d mol\n",
    "mol = mols[0]\n",
    "img = Draw.MolToImage(mol, size=(300, 300))\n",
    "display(img)\n",
    "\n",
    "# show 3d mol\n",
    "mb = Chem.MolToMolBlock(mol)\n",
    "viewer = py3Dmol.view(width=400, height=400)\n",
    "viewer.addModel(mb, 'mol')\n",
    "viewer.setStyle({'stick': {}})\n",
    "viewer.zoomTo()\n",
    "viewer.show()"
   ]
  },
  {
   "cell_type": "markdown",
   "id": "52d7a286-5e40-44ee-9866-9e8c0f80ab88",
   "metadata": {},
   "source": [
    "## step 2: instance-level evaluation"
   ]
  },
  {
   "cell_type": "code",
   "execution_count": 3,
   "id": "a67eb242-135c-4849-8bbb-cf7bbcb4ff3a",
   "metadata": {},
   "outputs": [
    {
     "name": "stderr",
     "output_type": "stream",
     "text": [
      "100%|███████████████████████████████████████████████████████████| 100/100 [00:00<00:00, 2056.57it/s]"
     ]
    },
    {
     "name": "stdout",
     "output_type": "stream",
     "text": [
      "avg mol size: 8.49\n",
      "atom stable: 1.00, mol stable: 1.00\n",
      "valid: 1.00, complete: 1.00, valid and complete: 100.00\n",
      "mean mmff energy: 19.46 from 100 mols\n",
      "unique: 1.00\n",
      "100 valid mols\n"
     ]
    },
    {
     "name": "stderr",
     "output_type": "stream",
     "text": [
      "\n"
     ]
    }
   ],
   "source": [
    "from tqdm import tqdm\n",
    "from collections import Counter\n",
    "import numpy as np\n",
    "from rdkit.Chem import AllChem\n",
    "from copy import deepcopy\n",
    "\n",
    "# https://github.com/Dunni3/FlowMol/issues/12\n",
    "allowed_bonds = {'H': {0: 1, 1: 0},\n",
    "                 'C': {0: 4},\n",
    "                 'N': {0: 3, 1: 4, -1: 2},  \n",
    "                 'O': {0: 2, 1: 3, -1: 1},\n",
    "                 'F': {0: 1, -1: 0},\n",
    "                 'B': 3, 'Al': 3, 'Si': 4,\n",
    "                 'P': {0: [3, 5], 1: 4},\n",
    "                 'S': {0: [2, 6], 1: [2, 3], 2: 4, 3: 5, -1: 3},\n",
    "                 'Cl': 1, 'As': 3,\n",
    "                 'Br': {0: 1, 1: 2}, 'I': 1, 'Hg': [1, 2], 'Bi': [3, 5], 'Se': [2, 4, 6]}\n",
    "bond_dict = [None, Chem.rdchem.BondType.SINGLE, Chem.rdchem.BondType.DOUBLE, Chem.rdchem.BondType.TRIPLE,\n",
    "             Chem.rdchem.BondType.AROMATIC]\n",
    "\n",
    "def check_stability(mol):\n",
    "    atom_types = [atom.GetSymbol() for atom in mol.GetAtoms()]\n",
    "    valencies = [atom.GetTotalValence() for atom in mol.GetAtoms()]\n",
    "    charges = [atom.GetFormalCharge() for atom in mol.GetAtoms()]\n",
    "\n",
    "    n_stable_atoms = 0\n",
    "    mol_stable = True\n",
    "    for i, (atom_type, valency, charge) in enumerate(zip(atom_types, valencies, charges)):\n",
    "        valency = int(valency)\n",
    "        charge = int(charge)\n",
    "        possible_bonds = allowed_bonds[atom_type]\n",
    "        if type(possible_bonds) == int:\n",
    "            is_stable = possible_bonds == valency\n",
    "        elif type(possible_bonds) == dict:\n",
    "            expected_bonds = possible_bonds[charge] if charge in possible_bonds.keys() else possible_bonds[0]\n",
    "            is_stable = expected_bonds == valency if type(expected_bonds) == int else valency in expected_bonds\n",
    "        else:\n",
    "            is_stable = valency in possible_bonds\n",
    "        if not is_stable:\n",
    "            mol_stable = False\n",
    "        n_stable_atoms += int(is_stable)\n",
    "\n",
    "    return n_stable_atoms, mol_stable, atom_types\n",
    "\n",
    "\n",
    "def check_validity(mol):\n",
    "    valid = False\n",
    "    complete = False\n",
    "    \n",
    "    if mol is None:\n",
    "        return False\n",
    "    \n",
    "    mol_frags = Chem.rdmolops.GetMolFrags(mol, asMols=True, sanitizeFrags=False)\n",
    "    n_frags = len(mol_frags)\n",
    "\n",
    "    if n_frags == 1:\n",
    "        complete = True\n",
    "\n",
    "    try:\n",
    "        Chem.SanitizeMol(mol)\n",
    "        smiles = Chem.MolToSmiles(mol)\n",
    "        valid = True\n",
    "    except Error as e:\n",
    "        print(e)\n",
    "\n",
    "    return valid and complete\n",
    "\n",
    "\n",
    "def get_molecule_force_field(mol, conf_id=None, force_field='mmff', **kwargs):\n",
    "    \"\"\"\n",
    "    Get a force field for a molecule.\n",
    "    Parameters\n",
    "    ----------\n",
    "    mol : RDKit Mol\n",
    "        Molecule.\n",
    "    conf_id : int, optional\n",
    "        ID of the conformer to associate with the force field.\n",
    "    force_field : str, optional\n",
    "        Force Field name.\n",
    "    kwargs : dict, optional\n",
    "        Keyword arguments for force field constructor.\n",
    "    \"\"\"\n",
    "    if force_field == 'uff':\n",
    "        ff = AllChem.UFFGetMoleculeForceField(\n",
    "            mol, confId=conf_id, **kwargs)\n",
    "    elif force_field.startswith('mmff'):\n",
    "        AllChem.MMFFSanitizeMolecule(mol)\n",
    "        mmff_props = AllChem.MMFFGetMoleculeProperties(\n",
    "            mol, mmffVariant=force_field)\n",
    "        ff = AllChem.MMFFGetMoleculeForceField(\n",
    "            mol, mmff_props, confId=conf_id, **kwargs)\n",
    "    else:\n",
    "        raise ValueError(\"Invalid force_field {}\".format(force_field))\n",
    "    return ff\n",
    "\n",
    "\n",
    "def get_conformer_energies(mol, force_field='mmff'):\n",
    "    \"\"\"\n",
    "    Calculate conformer energies.\n",
    "    Parameters\n",
    "    ----------\n",
    "    mol : RDKit Mol\n",
    "        Molecule.\n",
    "    force_field : str, optional\n",
    "        Force Field name.\n",
    "    Returns\n",
    "    -------\n",
    "    energies : array_like\n",
    "        Minimized conformer energies.\n",
    "    \"\"\"\n",
    "    energies = []\n",
    "    for conf in mol.GetConformers():\n",
    "        ff = get_molecule_force_field(mol, conf_id=conf.GetId(), force_field=force_field)\n",
    "        energy = ff.CalcEnergy()\n",
    "        energies.append(energy)\n",
    "    energies = np.asarray(energies, dtype=float)\n",
    "    return energies\n",
    "\n",
    "\n",
    "def evaluate(mols):\n",
    "    n_atoms = 0\n",
    "    n_stable_atoms = 0\n",
    "    n_stable_mols = 0\n",
    "    n_mols = len(mols)\n",
    "\n",
    "    n_valid_mols = 0\n",
    "    n_complete_mols = 0\n",
    "    n_valid_and_complete_mols = 0\n",
    "\n",
    "    all_atom_types = []\n",
    "    valid_mols = []\n",
    "    all_energy = []\n",
    "    all_smiles = []\n",
    "\n",
    "    for mol in tqdm(mols, ncols=100):\n",
    "        n_atoms += mol.GetNumAtoms()\n",
    "        _n_stable_atoms, _mol_stable, _atom_types = check_stability(mol)\n",
    "        n_stable_atoms += _n_stable_atoms\n",
    "        n_stable_mols += int(_mol_stable)\n",
    "        all_atom_types.extend(_atom_types)\n",
    "        \n",
    "        try:\n",
    "            Chem.SanitizeMol(mol)\n",
    "            smiles = Chem.MolToSmiles(mol)\n",
    "            _mol_valid = True\n",
    "\n",
    "            mol_frags = Chem.rdmolops.GetMolFrags(mol, asMols=True, sanitizeFrags=False)\n",
    "            n_frags = len(mol_frags)\n",
    "            _mol_complete = n_frags == 1\n",
    "\n",
    "            n_valid_mols += int(_mol_valid)\n",
    "            n_complete_mols += int(_mol_complete)\n",
    "            n_valid_and_complete_mols += int(_mol_valid and _mol_complete)\n",
    "\n",
    "            if not (_mol_valid and _mol_complete):\n",
    "                continue\n",
    "\n",
    "            valid_mols.append(mol)\n",
    "            all_smiles.append(smiles)\n",
    "\n",
    "            energy = get_conformer_energies(mol)\n",
    "            all_energy.append(energy)\n",
    "        except Exception as e:\n",
    "            print(e)\n",
    "\n",
    "    frac_atom_stable = n_stable_atoms / n_atoms\n",
    "    frac_mol_stable = n_stable_mols / n_mols\n",
    "    frac_mol_valid = n_valid_mols / n_mols\n",
    "    frac_mol_complete = n_complete_mols / n_mols\n",
    "    frac_mol_valid_and_complete = n_valid_and_complete_mols / n_mols\n",
    "\n",
    "    print(f'avg mol size: {n_atoms / n_mols:.2f}')\n",
    "    print(f'atom stable: {frac_atom_stable:.2f}, mol stable: {frac_mol_stable:.2f}')\n",
    "    print(f'valid: {frac_mol_valid:.2f}, complete: {frac_mol_complete:.2f}, valid and complete: {n_valid_and_complete_mols:.2f}')\n",
    "\n",
    "    all_energy = np.array(all_energy)\n",
    "    all_energy = all_energy[~np.isnan(all_energy)]\n",
    "    mean_energy = np.mean(all_energy)\n",
    "\n",
    "    print(f'mean mmff energy: {mean_energy:.2f} from {len(all_energy)} mols')\n",
    "\n",
    "    unique = len(set(all_smiles)) / len(all_smiles)\n",
    "    print(f'unique: {unique:.2f}')\n",
    "\n",
    "    return valid_mols, all_smiles, all_energy, all_atom_types\n",
    "\n",
    "valid_mols, all_smiles, all_energy, all_atom_types = evaluate(mols)\n",
    "print(f'{len(valid_mols)} valid mols')"
   ]
  },
  {
   "cell_type": "markdown",
   "id": "b44fddb8-3d82-4294-a9f1-8e275009461d",
   "metadata": {},
   "source": [
    "## step 3: distribution-evel evaluation"
   ]
  },
  {
   "cell_type": "code",
   "execution_count": 4,
   "id": "19df4d39-6f64-4f10-9e65-3d76e2e1a5d0",
   "metadata": {},
   "outputs": [
    {
     "name": "stdout",
     "output_type": "stream",
     "text": [
      "[Diversity] Avg: 0.8628 | Med: 0.8898 \n"
     ]
    }
   ],
   "source": [
    "import matplotlib.pyplot as plt\n",
    "from rdkit import DataStructs\n",
    "\n",
    "def tanimoto_sim(mol, ref):\n",
    "    fp1 = Chem.RDKFingerprint(ref)\n",
    "    fp2 = Chem.RDKFingerprint(mol)\n",
    "    return DataStructs.TanimotoSimilarity(fp1,fp2)\n",
    "\n",
    "def tanimoto_dis(mol, ref):\n",
    "    return 1 - tanimoto_sim(mol, ref)\n",
    "\n",
    "def tanimoto_dis_N_to_1(mols, ref):\n",
    "    sim = [tanimoto_dis(m, ref) for m in mols]\n",
    "    return sim\n",
    "\n",
    "def compute_diversity(mols):\n",
    "    diversity = []\n",
    "    for j in range(len(mols)):\n",
    "        tmp = tanimoto_dis_N_to_1(mols, mols[j])\n",
    "        tmp.pop(j)\n",
    "        diversity += tmp\n",
    "    diversity = np.array(diversity)\n",
    "    print('[Diversity] Avg: %.4f | Med: %.4f ' % (np.mean(diversity), np.median(diversity)))\n",
    "    return diversity\n",
    "\n",
    "diversity = compute_diversity(valid_mols)\n"
   ]
  },
  {
   "cell_type": "code",
   "execution_count": 5,
   "id": "97d82149-9e02-49a6-847a-1ead518cfb67",
   "metadata": {},
   "outputs": [
    {
     "name": "stderr",
     "output_type": "stream",
     "text": [
      "100%|██████████████████████████████████████████████████████| 96663/96663 [00:08<00:00, 11378.20it/s]\n",
      "100%|██████████████████████████████████████████████████████| 12930/12930 [00:01<00:00, 11031.76it/s]\n"
     ]
    },
    {
     "name": "stdout",
     "output_type": "stream",
     "text": [
      "96663 train smiles, 12930 test smiles\n",
      "['O', 'CC#CC', 'COC=O']\n"
     ]
    },
    {
     "name": "stderr",
     "output_type": "stream",
     "text": [
      "100%|█████████████████████████████████████████████████████| 133885/133885 [00:20<00:00, 6526.87it/s]"
     ]
    },
    {
     "name": "stdout",
     "output_type": "stream",
     "text": [
      "12927 12927\n"
     ]
    },
    {
     "name": "stderr",
     "output_type": "stream",
     "text": [
      "\n"
     ]
    }
   ],
   "source": [
    "def canonical_smiles(smiles):\n",
    "    mol = Chem.MolFromSmiles(smiles, sanitize=False)\n",
    "    mol = Chem.RemoveHs(mol)\n",
    "    smiles = Chem.MolToSmiles(mol, isomericSmiles=False, canonical=True)\n",
    "    return smiles\n",
    "\n",
    "train_smiles = []\n",
    "for s in tqdm(pkl.load(open(f'../../FlowMol/data/qm9_valid/train_data_smiles.pkl', 'rb')), ncols=100):\n",
    "    s = canonical_smiles(s)\n",
    "    train_smiles.append(s)\n",
    "\n",
    "test_smiles = []\n",
    "for s in tqdm(pkl.load(open(f'../../FlowMol/data/qm9_valid/test_data_smiles.pkl', 'rb')), ncols=100):\n",
    "    s = canonical_smiles(s)\n",
    "    test_smiles.append(s)\n",
    "\n",
    "print(f'{len(train_smiles)} train smiles, {len(test_smiles)} test smiles')\n",
    "print(test_smiles[:3])\n",
    "\n",
    "test_smiles = set(test_smiles)\n",
    "test_mols = {}\n",
    "for mol in tqdm(Chem.SDMolSupplier('../../FlowMol/data/qm9_raw/gdb9.sdf'), ncols=100):\n",
    "    if mol is None: continue\n",
    "    mol = Chem.RemoveHs(mol)\n",
    "    smiles = Chem.MolToSmiles(mol, isomericSmiles=False, canonical=True)\n",
    "    if smiles in test_smiles:\n",
    "        test_mols[smiles] = mol\n",
    "print(len(test_smiles), len(test_mols))"
   ]
  },
  {
   "cell_type": "code",
   "execution_count": 6,
   "id": "ed10a61f-54b7-4116-90a5-6c4d334f4442",
   "metadata": {},
   "outputs": [
    {
     "name": "stdout",
     "output_type": "stream",
     "text": [
      "novelty: 0.91\n"
     ]
    }
   ],
   "source": [
    "def compute_novelty(ref_smiles, sample_smiles):\n",
    "    samples = set(sample_smiles)\n",
    "    ref_smiles = set(ref_smiles)\n",
    "    return len(samples - ref_smiles) / len(sample_smiles)\n",
    "\n",
    "novelty = compute_novelty(train_smiles, all_smiles)\n",
    "print(f'novelty: {novelty:.2f}')"
   ]
  },
  {
   "cell_type": "code",
   "execution_count": 7,
   "id": "768157fc-db79-483e-a55e-2b84edfcdf45",
   "metadata": {},
   "outputs": [
    {
     "name": "stderr",
     "output_type": "stream",
     "text": [
      "100%|███████████████████████████████████████████████████████| 12927/12927 [00:03<00:00, 4125.35it/s]\n"
     ]
    },
    {
     "name": "stdout",
     "output_type": "stream",
     "text": [
      "19.459044264785646 20.229744439378102\n"
     ]
    },
    {
     "data": {
      "image/png": "[encoded data removed]",
      "text/plain": [
       "<Figure size 640x480 with 1 Axes>"
      ]
     },
     "metadata": {},
     "output_type": "display_data"
    }
   ],
   "source": [
    "ref_energy = []\n",
    "for mol in tqdm(test_mols.values(), ncols=100):\n",
    "    energy = get_conformer_energies(mol)\n",
    "    ref_energy.append(energy)\n",
    "ref_energy = np.array(ref_energy)\n",
    "ref_energy = ref_energy[~np.isnan(ref_energy)]\n",
    "\n",
    "print(np.mean(all_energy), np.std(all_energy))\n",
    "plt.hist(ref_energy, density=True, bins=100, label='ref')\n",
    "plt.hist(all_energy, density=True, bins=20, label='sample')\n",
    "plt.legend()\n",
    "plt.show()"
   ]
  },
  {
   "cell_type": "code",
   "execution_count": 8,
   "id": "80528e4c-2a34-40a4-aae4-90eabd4411c5",
   "metadata": {},
   "outputs": [
    {
     "name": "stderr",
     "output_type": "stream",
     "text": [
      "100%|██████████████████████████████████████████████████████| 12927/12927 [00:00<00:00, 21896.58it/s]\n"
     ]
    },
    {
     "name": "stdout",
     "output_type": "stream",
     "text": [
      "Counter({'C': 82128, 'O': 18024, 'N': 13192, 'F': 291, 'H': 116})\n",
      "{'O': 0.15845135427380858, 'C': 0.7219980483688055, 'N': 0.11597260683422564, 'H': 0.0010197712547581998, 'F': 0.002558219268402036}\n",
      "Counter({'C': 668, 'O': 135, 'N': 46})\n",
      "{'O': 0.15901060070671377, 'C': 0.7868080094228505, 'N': 0.05418138987043581}\n"
     ]
    },
    {
     "data": {
      "image/png": "[encoded data removed]",
      "text/plain": [
       "<Figure size 800x500 with 1 Axes>"
      ]
     },
     "metadata": {},
     "output_type": "display_data"
    }
   ],
   "source": [
    "ref_atom_types = []\n",
    "for mol in tqdm(test_mols.values(), ncols=100):\n",
    "    mol = Chem.RemoveHs(mol)\n",
    "    atom_types = [atom.GetSymbol() for atom in mol.GetAtoms()]\n",
    "    ref_atom_types.extend(atom_types)\n",
    "\n",
    "counter = Counter(ref_atom_types)\n",
    "print(counter)\n",
    "ref_ratio = {k: v/sum(counter.values()) for k, v in counter.items()}\n",
    "print(ref_ratio)\n",
    "\n",
    "counter = Counter(all_atom_types)\n",
    "print(counter)\n",
    "sample_ratio = {k: v/sum(counter.values()) for k, v in counter.items()}\n",
    "print(sample_ratio)\n",
    "\n",
    "all_elements = ['H', 'C', 'N', 'O', 'F']\n",
    "\n",
    "freq1 = [ref_ratio.get(el, 0) for el in all_elements]\n",
    "freq2 = [sample_ratio.get(el, 0) for el in all_elements]\n",
    "\n",
    "x = np.arange(len(all_elements))\n",
    "width = 0.35\n",
    "\n",
    "plt.figure(figsize=(8, 5))\n",
    "plt.bar(x - width/2, freq1, width, label='ref')\n",
    "plt.bar(x + width/2, freq2, width, label='sample')\n",
    "plt.legend()\n",
    "plt.show()"
   ]
  },
  {
   "cell_type": "code",
   "execution_count": null,
   "id": "39d63e82-c39c-4a20-b170-11fa6c035170",
   "metadata": {},
   "outputs": [],
   "source": []
  }
 ],
 "metadata": {
  "kernelspec": {
   "display_name": "flowmol",
   "language": "python",
   "name": "flowmol"
  },
  "language_info": {
   "codemirror_mode": {
    "name": "ipython",
    "version": 3
   },
   "file_extension": ".py",
   "mimetype": "text/x-python",
   "name": "python",
   "nbconvert_exporter": "python",
   "pygments_lexer": "ipython3",
   "version": "3.10.16"
  }
 },
 "nbformat": 4,
 "nbformat_minor": 5
}
